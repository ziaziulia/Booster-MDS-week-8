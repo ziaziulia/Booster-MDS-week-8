{
 "cells": [
  {
   "cell_type": "code",
   "execution_count": 1,
   "metadata": {},
   "outputs": [],
   "source": [
    "import numpy as np\n",
    "from collections import Counter\n",
    "\n",
    "\n",
    "from sklearn import  model_selection, metrics, datasets\n",
    "from pandas import DataFrame\n",
    "from sklearn.neighbors import KNeighborsClassifier\n",
    "from sklearn.preprocessing import StandardScaler\n",
    "\n",
    "\n",
    "import pandas as pd\n",
    "import seaborn as sns\n",
    "import math"
   ]
  },
  {
   "cell_type": "code",
   "execution_count": 2,
   "metadata": {},
   "outputs": [],
   "source": [
    "def dist (a,b):\n",
    "    return math.sqrt((a[0] - b[0])**2 + (a[1] - b[1])**2)\n",
    "\n",
    "class knn:\n",
    "    def __init__(self, weights='distance',k = 5):\n",
    "        self.weights = weights\n",
    "        self.k = k\n",
    "\n",
    "    def fit(self, train_data, train_labels):\n",
    "        self.train_data = train_data\n",
    "        self.train_labels = train_labels\n",
    "\n",
    "    def predict(self, test_data):\n",
    "        q = []\n",
    "        for j in range(len(test_data)):\n",
    "            w = []\n",
    "            qq = []\n",
    "            for i in range(len(self.train_data)):\n",
    "                w.append([dist(test_data[j], self.train_data[i]), i])\n",
    "            w = sorted(w)\n",
    "\n",
    "            for i in range(self.k):\n",
    "                index = w[i][1]\n",
    "                qq.append((self.train_labels[index]))\n",
    "            q.append((Counter(qq).most_common()[0][0]))\n",
    "        return q"
   ]
  },
  {
   "cell_type": "code",
   "execution_count": 3,
   "metadata": {},
   "outputs": [],
   "source": [
    "iris = datasets.load_iris()"
   ]
  },
  {
   "cell_type": "code",
   "execution_count": 4,
   "metadata": {},
   "outputs": [],
   "source": [
    "train_data, test_data, train_labels, test_labels = model_selection.train_test_split(iris.data, iris.target, \n",
    "                                                                                     test_size = 0.25)"
   ]
  },
  {
   "cell_type": "code",
   "execution_count": 5,
   "metadata": {},
   "outputs": [
    {
     "data": {
      "text/plain": [
       "0.7368421052631579"
      ]
     },
     "execution_count": 5,
     "metadata": {},
     "output_type": "execute_result"
    }
   ],
   "source": [
    "test = knn( weights='distance')\n",
    "test.fit(train_data,train_labels)\n",
    "test_pred=test.predict(test_data)\n",
    "metrics.accuracy_score(test_labels,test_pred)"
   ]
  },
  {
   "cell_type": "code",
   "execution_count": 8,
   "metadata": {},
   "outputs": [
    {
     "data": {
      "text/plain": [
       "Text(0, 0.5, 'accuracy')"
      ]
     },
     "execution_count": 8,
     "metadata": {},
     "output_type": "execute_result"
    },
    {
     "data": {
      "image/png": "[encoded data removed]",
      "text/plain": [
       "<Figure size 432x288 with 1 Axes>"
      ]
     },
     "metadata": {
      "needs_background": "light"
     },
     "output_type": "display_data"
    }
   ],
   "source": [
    "from matplotlib import pylab\n",
    "neigh = np.arange(1,40,1)\n",
    "\n",
    "KNeighborsClassifier_scores = []\n",
    "knn_scores = [] # майн\n",
    "\n",
    "for i in neigh:\n",
    "    \n",
    "    clf = KNeighborsClassifier(n_neighbors=i).fit(train_data,train_labels) \n",
    "    test = knn(k = i)\n",
    "    test.fit(train_data,train_labels)\n",
    "    KNeighborsClassifier_scores.append(metrics.accuracy_score(test_labels, clf.predict(test_data)))\n",
    "    knn_scores.append(metrics.accuracy_score(test_labels, test.predict(test_data)))\n",
    "\n",
    "pylab.grid(True)\n",
    "pylab.plot(neigh, KNeighborsClassifier_scores, color = 'green', label='standart')\n",
    "pylab.plot(neigh, knn_scores, label='My ') \n",
    "pylab.legend(loc='upper left')\n",
    "pylab.xlabel('count of neighbors ')\n",
    "pylab.ylabel('accuracy')"
   ]
  },
  {
   "cell_type": "code",
   "execution_count": null,
   "metadata": {},
   "outputs": [],
   "source": []
  },
  {
   "cell_type": "code",
   "execution_count": null,
   "metadata": {},
   "outputs": [],
   "source": []
  }
 ],
 "metadata": {
  "kernelspec": {
   "display_name": "Python 3",
   "language": "python",
   "name": "python3"
  },
  "language_info": {
   "codemirror_mode": {
    "name": "ipython",
    "version": 3
   },
   "file_extension": ".py",
   "mimetype": "text/x-python",
   "name": "python",
   "nbconvert_exporter": "python",
   "pygments_lexer": "ipython3",
   "version": "3.7.3"
  }
 },
 "nbformat": 4,
 "nbformat_minor": 2
}
